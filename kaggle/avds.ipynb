{
 "cells": [
  {
   "cell_type": "code",
   "execution_count": 4,
   "metadata": {},
   "outputs": [
    {
     "name": "stdout",
     "output_type": "stream",
     "text": [
      "       ImageId  Label\n0            1      0\n1            2      0\n2            3      0\n3            4      0\n4            5      0\n5            6      0\n6            7      0\n7            8      0\n8            9      0\n9           10      0\n10          11      0\n11          12      0\n12          13      0\n13          14      0\n14          15      0\n15          16      0\n16          17      0\n17          18      0\n18          19      0\n19          20      0\n20          21      0\n21          22      0\n22          23      0\n23          24      0\n24          25      0\n25          26      0\n26          27      0\n27          28      0\n28          29      0\n29          30      0\n...        ...    ...\n27970    27971      0\n27971    27972      0\n27972    27973      0\n27973    27974      0\n27974    27975      0\n27975    27976      0\n27976    27977      0\n27977    27978      0\n27978    27979      0\n27979    27980      0\n27980    27981      0\n27981    27982      0\n27982    27983      0\n27983    27984      0\n27984    27985      0\n27985    27986      0\n27986    27987      0\n27987    27988      0\n27988    27989      0\n27989    27990      0\n27990    27991      0\n27991    27992      0\n27992    27993      0\n27993    27994      0\n27994    27995      0\n27995    27996      0\n27996    27997      0\n27997    27998      0\n27998    27999      0\n27999    28000      0\n\n[28000 rows x 2 columns]\n"
     ]
    }
   ],
   "source": [
    "import pandas\n",
    "ab = pandas.read_csv(\"kaggle/a.csv\")\n",
    "print ab[:]"
   ]
  },
  {
   "cell_type": "code",
   "execution_count": null,
   "metadata": {},
   "outputs": [],
   "source": [
    ""
   ]
  }
 ],
 "metadata": {},
 "nbformat": 4,
 "nbformat_minor": 0
}