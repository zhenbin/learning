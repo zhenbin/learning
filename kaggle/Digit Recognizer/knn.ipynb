{
 "cells": [
  {
   "cell_type": "code",
   "execution_count": 1,
   "metadata": {
    "collapsed": false
   },
   "outputs": [],
   "source": [
    "'''\n",
    "加载数据\n",
    "'''\n",
    "import pandas\n",
    "\n",
    "dataset = pandas.read_csv(\"kaggle/Digit Recognizer/data/sample_submission.csv\")\n",
    "train_data = pandas.read_csv(\"kaggle/Digit Recognizer/data/train.csv\")\n",
    "test_data = pandas.read_csv(\"kaggle/Digit Recognizer/data/test.csv\")\n",
    "\n",
    "train_x = train_data.values[0:, 1:]\n",
    "train_y = train_data.values[0:, 0]\n",
    "\n",
    "#for fast evaluation\n",
    "train_x_small = train_x[:10000, :]\n",
    "train_y_small = train_y[:10000]"
   ]
  },
  {
   "cell_type": "code",
   "execution_count": 15,
   "metadata": {},
   "outputs": [
    {
     "name": "stdout",
     "output_type": "stream",
     "text": [
      "0.939899237556\n('Time used:', 121, 's')\n"
     ]
    }
   ],
   "source": [
    "from sklearn.neighbors import KNeighborsClassifier\n",
    "from sklearn.cross_validation import cross_val_score\n",
    "import time\n",
    "\n",
    "start = time.clock()\n",
    "\n",
    "'''\n",
    "KNN\n",
    "\n",
    "n_neighbors : 就是KNN里的K了,代表找K近邻;\n",
    "weights     : 指k个近邻每个的权重,'uniform'就是大家权重一样,'distance'就是越近权重越大;\n",
    "algorithm   : 就是查找近邻时用的算法,有auto/kd_tree/ball_tree;\n",
    "metric      : 度量距离的方法，有minkowski和lp两种;lp是minkowski的开p次方;lp详见《统计学习方法》\n",
    "p           : 距离的p值,在minkowski时,p=1是曼哈顿,p=2是平方差(在lp时是欧氏);\n",
    "\n",
    "'''\n",
    "knn = KNeighborsClassifier(\n",
    "    n_neighbors=5,\n",
    "    weights='uniform',\n",
    "    algorithm='auto', \n",
    "    p=2, \n",
    "    metric='minkowski'\n",
    ")\n",
    "\n",
    "'''\n",
    "交叉验证\n",
    "\n",
    "使用cross_val_score做交叉验证,其中入参有:\n",
    "\n",
    "estimator   : 就是模型了,这里的模型实现了fit接口;\n",
    "cv          : 这里是一个数字时，用的是kfold,也就是用的S折交叉验证；\n",
    "\n",
    "'''\n",
    "score = cross_val_score(knn, train_x_small, train_y_small, cv=3)\n",
    "\n",
    "print(score.mean())\n",
    "\n",
    "elapsed = (time.clock() - start)\n",
    "print(\"Time used: %ds\" % (int(elapsed)))"
   ]
  },
  {
   "cell_type": "code",
   "execution_count": null,
   "metadata": {},
   "outputs": [],
   "source": [
    ""
   ]
  }
 ],
 "metadata": {
  "kernelspec": {
   "display_name": "Python 2",
   "language": "python",
   "name": "python2"
  },
  "language_info": {
   "codemirror_mode": {
    "name": "ipython",
    "version": 2.0
   },
   "file_extension": ".py",
   "mimetype": "text/x-python",
   "name": "python",
   "nbconvert_exporter": "python",
   "pygments_lexer": "ipython2",
   "version": "2.7.11"
  }
 },
 "nbformat": 4,
 "nbformat_minor": 0
}