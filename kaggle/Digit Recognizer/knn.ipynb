{
 "cells": [
  {
   "cell_type": "markdown",
   "metadata": {},
   "source": [
    "# 加载数据"
   ]
  },
  {
   "cell_type": "code",
   "execution_count": 11,
   "metadata": {
    "collapsed": false
   },
   "outputs": [],
   "source": [
    "import pandas\n",
    "\n",
    "dataset = pandas.read_csv(\"kaggle/Digit Recognizer/data/sample_submission.csv\")\n",
    "train_data = pandas.read_csv(\"kaggle/Digit Recognizer/data/train.csv\")\n",
    "test_data = pandas.read_csv(\"kaggle/Digit Recognizer/data/test.csv\")\n",
    "\n",
    "train_x = train_data.values[0:, 1:]\n",
    "train_y = train_data.values[0:, 0]\n",
    "\n",
    "#for fast evaluation\n",
    "train_x_small = train_x[:10000, :]\n",
    "train_y_small = train_y[:10000] "
   ]
  },
  {
   "cell_type": "markdown",
   "metadata": {},
   "source": [
    "## 获取小部分数据"
   ]
  },
  {
   "cell_type": "code",
   "execution_count": 15,
   "metadata": {},
   "outputs": [
    {
     "name": "stdout",
     "output_type": "stream",
     "text": [
      "0.939899237556\n('Time used:', 121, 's')\n"
     ]
    }
   ],
   "source": [
    "from sklearn.neighbors import KNeighborsClassifier\n",
    "from sklearn.cross_validation import cross_val_score\n",
    "import time\n",
    "\n",
    "#begin time\n",
    "start = time.clock()\n",
    "\n",
    "knn = KNeighborsClassifier(\n",
    "    n_neighbors=5,\n",
    "    weights='uniform',\n",
    "    algorithm='auto'\n",
    ")\n",
    "score = cross_val_score(knn, train_x_small, train_y_small, cv=3)\n",
    "\n",
    "print(score.mean())\n",
    "#end time\n",
    "elapsed = (time.clock() - start)\n",
    "print(\"Time used:\", int(elapsed), \"s\")\n"
   ]
  },
  {
   "cell_type": "code",
   "execution_count": null,
   "metadata": {},
   "outputs": [],
   "source": [
    ""
   ]
  }
 ],
 "metadata": {
  "kernelspec": {
   "display_name": "Python 2",
   "language": "python",
   "name": "python2"
  },
  "language_info": {
   "codemirror_mode": {
    "name": "ipython",
    "version": 2.0
   },
   "file_extension": ".py",
   "mimetype": "text/x-python",
   "name": "python",
   "nbconvert_exporter": "python",
   "pygments_lexer": "ipython2",
   "version": "2.7.11"
  }
 },
 "nbformat": 4,
 "nbformat_minor": 0
}